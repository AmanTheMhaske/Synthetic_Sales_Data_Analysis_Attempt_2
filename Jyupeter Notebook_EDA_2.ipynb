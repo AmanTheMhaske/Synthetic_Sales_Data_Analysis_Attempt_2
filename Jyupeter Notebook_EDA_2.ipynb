{
  "nbformat": 4,
  "nbformat_minor": 0,
  "metadata": {
    "colab": {
      "provenance": []
    },
    "kernelspec": {
      "name": "python3",
      "display_name": "Python 3"
    },
    "language_info": {
      "name": "python"
    }
  },
  "cells": [
    {
      "cell_type": "code",
      "execution_count": null,
      "metadata": {
        "id": "RB2r2JHmbHIu"
      },
      "outputs": [],
      "source": [
        "import pandas as pd\n",
        "import numpy as np\n",
        "import matplotlib.pyplot as plt\n",
        "import seaborn as sns\n"
      ]
    },
    {
      "cell_type": "code",
      "source": [
        "df = pd.read_csv('/content/Synthetic_Software_Sales_Data_OG.csv')"
      ],
      "metadata": {
        "id": "ZuXL3RkSbRyN"
      },
      "execution_count": null,
      "outputs": []
    },
    {
      "cell_type": "code",
      "source": [
        "df.columns #understanding data"
      ],
      "metadata": {
        "colab": {
          "base_uri": "https://localhost:8080/"
        },
        "id": "NjoJ_TKnbR0Q",
        "outputId": "28d327d2-a6ad-4b8d-aba9-0584fe9950aa"
      },
      "execution_count": null,
      "outputs": [
        {
          "output_type": "execute_result",
          "data": {
            "text/plain": [
              "Index(['Date of Sale', 'Region', 'Product Type', 'Sales Channel',\n",
              "       'Customer Type', 'Sales Amount in US$', 'Units Sold',\n",
              "       'Marketing Spend in US$', 'Returning Customer'],\n",
              "      dtype='object')"
            ]
          },
          "metadata": {},
          "execution_count": 3
        }
      ]
    },
    {
      "cell_type": "code",
      "source": [
        "df.info(1) #understanding data"
      ],
      "metadata": {
        "colab": {
          "base_uri": "https://localhost:8080/"
        },
        "id": "5IOWbwDUbR2o",
        "outputId": "c767b099-8797-460e-e468-d3057dede688"
      },
      "execution_count": null,
      "outputs": [
        {
          "output_type": "stream",
          "name": "stdout",
          "text": [
            "<class 'pandas.core.frame.DataFrame'>\n",
            "RangeIndex: 3651 entries, 0 to 3650\n",
            "Data columns (total 9 columns):\n",
            " #   Column                  Non-Null Count  Dtype  \n",
            "---  ------                  --------------  -----  \n",
            " 0   Date of Sale            3650 non-null   object \n",
            " 1   Region                  3650 non-null   object \n",
            " 2   Product Type            3650 non-null   object \n",
            " 3   Sales Channel           3650 non-null   object \n",
            " 4   Customer Type           3650 non-null   object \n",
            " 5   Sales Amount in US$     3650 non-null   float64\n",
            " 6   Units Sold              3650 non-null   float64\n",
            " 7   Marketing Spend in US$  3650 non-null   float64\n",
            " 8   Returning Customer      3650 non-null   object \n",
            "dtypes: float64(3), object(6)\n",
            "memory usage: 256.8+ KB\n"
          ]
        }
      ]
    },
    {
      "cell_type": "code",
      "source": [
        "df['Product Type'].value_counts() #understanding data"
      ],
      "metadata": {
        "colab": {
          "base_uri": "https://localhost:8080/"
        },
        "id": "MDbCojNIv275",
        "outputId": "c9241bfe-14d8-44dd-fd6c-a92bb3e700ba"
      },
      "execution_count": null,
      "outputs": [
        {
          "output_type": "execute_result",
          "data": {
            "text/plain": [
              "Product Type\n",
              "CRM          762\n",
              "DevTools     746\n",
              "Database     717\n",
              "ERP          713\n",
              "Antivirus    712\n",
              "Name: count, dtype: int64"
            ]
          },
          "metadata": {},
          "execution_count": 5
        }
      ]
    },
    {
      "cell_type": "code",
      "source": [
        "df['Sales Channel'].value_counts() #understanding data"
      ],
      "metadata": {
        "colab": {
          "base_uri": "https://localhost:8080/"
        },
        "id": "gnV5HE7Nv2-S",
        "outputId": "4e825d0b-e31c-45a3-e46b-f126cef94337"
      },
      "execution_count": null,
      "outputs": [
        {
          "output_type": "execute_result",
          "data": {
            "text/plain": [
              "Sales Channel\n",
              "Online          1248\n",
              "Partner         1204\n",
              "Direct Sales    1198\n",
              "Name: count, dtype: int64"
            ]
          },
          "metadata": {},
          "execution_count": 6
        }
      ]
    },
    {
      "cell_type": "code",
      "source": [
        "df['Customer Type'].value_counts() #understanding data"
      ],
      "metadata": {
        "colab": {
          "base_uri": "https://localhost:8080/"
        },
        "id": "j3mfZfr1v3Ex",
        "outputId": "9c7c5479-756f-4297-969e-b16aad8ddacc"
      },
      "execution_count": null,
      "outputs": [
        {
          "output_type": "execute_result",
          "data": {
            "text/plain": [
              "Customer Type\n",
              "Consumer    1859\n",
              "Business    1791\n",
              "Name: count, dtype: int64"
            ]
          },
          "metadata": {},
          "execution_count": 7
        }
      ]
    },
    {
      "cell_type": "code",
      "source": [
        "df['Returning Customer'].value_counts() #understanding data"
      ],
      "metadata": {
        "colab": {
          "base_uri": "https://localhost:8080/"
        },
        "id": "D4ZbOBrlv3HQ",
        "outputId": "7bc2470a-5aa1-486a-dde2-9a0e9f1a6433"
      },
      "execution_count": null,
      "outputs": [
        {
          "output_type": "execute_result",
          "data": {
            "text/plain": [
              "Returning Customer\n",
              "No     1827\n",
              "Yes    1823\n",
              "Name: count, dtype: int64"
            ]
          },
          "metadata": {},
          "execution_count": 8
        }
      ]
    },
    {
      "cell_type": "code",
      "source": [
        "df['Region'].value_counts() #understanding data"
      ],
      "metadata": {
        "colab": {
          "base_uri": "https://localhost:8080/"
        },
        "id": "WgqpLlWVwwzy",
        "outputId": "35f4ecdf-c4ad-41fb-c69e-4f6e6d0454f5"
      },
      "execution_count": null,
      "outputs": [
        {
          "output_type": "execute_result",
          "data": {
            "text/plain": [
              "Region\n",
              "South America    755\n",
              "Australia        748\n",
              "North America    743\n",
              "Europe           704\n",
              "Asia             700\n",
              "Name: count, dtype: int64"
            ]
          },
          "metadata": {},
          "execution_count": 9
        }
      ]
    },
    {
      "cell_type": "code",
      "source": [
        "df.head(5) #understanding data"
      ],
      "metadata": {
        "colab": {
          "base_uri": "https://localhost:8080/",
          "height": 206
        },
        "id": "hbGVOwnVbR5R",
        "outputId": "486e025e-3245-43c6-fe6c-5bcc12e8c6c3"
      },
      "execution_count": null,
      "outputs": [
        {
          "output_type": "execute_result",
          "data": {
            "text/plain": [
              "  Date of Sale         Region Product Type Sales Channel Customer Type  \\\n",
              "0   01-01-2022  South America          CRM       Partner      Business   \n",
              "1   02-01-2022      Australia     DevTools       Partner      Consumer   \n",
              "2   03-01-2022           Asia     DevTools       Partner      Consumer   \n",
              "3   04-01-2022      Australia     Database       Partner      Business   \n",
              "4   05-01-2022      Australia          CRM        Online      Consumer   \n",
              "\n",
              "   Sales Amount in US$  Units Sold  Marketing Spend in US$ Returning Customer  \\\n",
              "0               7723.0          16                   793.0                Yes   \n",
              "1               8681.0          15                   725.0                Yes   \n",
              "2               5240.0           8                   587.0                 No   \n",
              "3               9933.0          15                  1810.0                Yes   \n",
              "4                215.0           1                   933.0                Yes   \n",
              "\n",
              "        Date  Quater    Month  \n",
              "0 2022-01-01       1  January  \n",
              "1 2022-01-02       1  January  \n",
              "2 2022-01-03       1  January  \n",
              "3 2022-01-04       1  January  \n",
              "4 2022-01-05       1  January  "
            ],
            "text/html": [
              "\n",
              "  <div id=\"df-29f295e8-845c-462b-9957-9b988e0383d2\" class=\"colab-df-container\">\n",
              "    <div>\n",
              "<style scoped>\n",
              "    .dataframe tbody tr th:only-of-type {\n",
              "        vertical-align: middle;\n",
              "    }\n",
              "\n",
              "    .dataframe tbody tr th {\n",
              "        vertical-align: top;\n",
              "    }\n",
              "\n",
              "    .dataframe thead th {\n",
              "        text-align: right;\n",
              "    }\n",
              "</style>\n",
              "<table border=\"1\" class=\"dataframe\">\n",
              "  <thead>\n",
              "    <tr style=\"text-align: right;\">\n",
              "      <th></th>\n",
              "      <th>Date of Sale</th>\n",
              "      <th>Region</th>\n",
              "      <th>Product Type</th>\n",
              "      <th>Sales Channel</th>\n",
              "      <th>Customer Type</th>\n",
              "      <th>Sales Amount in US$</th>\n",
              "      <th>Units Sold</th>\n",
              "      <th>Marketing Spend in US$</th>\n",
              "      <th>Returning Customer</th>\n",
              "      <th>Date</th>\n",
              "      <th>Quater</th>\n",
              "      <th>Month</th>\n",
              "    </tr>\n",
              "  </thead>\n",
              "  <tbody>\n",
              "    <tr>\n",
              "      <th>0</th>\n",
              "      <td>01-01-2022</td>\n",
              "      <td>South America</td>\n",
              "      <td>CRM</td>\n",
              "      <td>Partner</td>\n",
              "      <td>Business</td>\n",
              "      <td>7723.0</td>\n",
              "      <td>16</td>\n",
              "      <td>793.0</td>\n",
              "      <td>Yes</td>\n",
              "      <td>2022-01-01</td>\n",
              "      <td>1</td>\n",
              "      <td>January</td>\n",
              "    </tr>\n",
              "    <tr>\n",
              "      <th>1</th>\n",
              "      <td>02-01-2022</td>\n",
              "      <td>Australia</td>\n",
              "      <td>DevTools</td>\n",
              "      <td>Partner</td>\n",
              "      <td>Consumer</td>\n",
              "      <td>8681.0</td>\n",
              "      <td>15</td>\n",
              "      <td>725.0</td>\n",
              "      <td>Yes</td>\n",
              "      <td>2022-01-02</td>\n",
              "      <td>1</td>\n",
              "      <td>January</td>\n",
              "    </tr>\n",
              "    <tr>\n",
              "      <th>2</th>\n",
              "      <td>03-01-2022</td>\n",
              "      <td>Asia</td>\n",
              "      <td>DevTools</td>\n",
              "      <td>Partner</td>\n",
              "      <td>Consumer</td>\n",
              "      <td>5240.0</td>\n",
              "      <td>8</td>\n",
              "      <td>587.0</td>\n",
              "      <td>No</td>\n",
              "      <td>2022-01-03</td>\n",
              "      <td>1</td>\n",
              "      <td>January</td>\n",
              "    </tr>\n",
              "    <tr>\n",
              "      <th>3</th>\n",
              "      <td>04-01-2022</td>\n",
              "      <td>Australia</td>\n",
              "      <td>Database</td>\n",
              "      <td>Partner</td>\n",
              "      <td>Business</td>\n",
              "      <td>9933.0</td>\n",
              "      <td>15</td>\n",
              "      <td>1810.0</td>\n",
              "      <td>Yes</td>\n",
              "      <td>2022-01-04</td>\n",
              "      <td>1</td>\n",
              "      <td>January</td>\n",
              "    </tr>\n",
              "    <tr>\n",
              "      <th>4</th>\n",
              "      <td>05-01-2022</td>\n",
              "      <td>Australia</td>\n",
              "      <td>CRM</td>\n",
              "      <td>Online</td>\n",
              "      <td>Consumer</td>\n",
              "      <td>215.0</td>\n",
              "      <td>1</td>\n",
              "      <td>933.0</td>\n",
              "      <td>Yes</td>\n",
              "      <td>2022-01-05</td>\n",
              "      <td>1</td>\n",
              "      <td>January</td>\n",
              "    </tr>\n",
              "  </tbody>\n",
              "</table>\n",
              "</div>\n",
              "    <div class=\"colab-df-buttons\">\n",
              "\n",
              "  <div class=\"colab-df-container\">\n",
              "    <button class=\"colab-df-convert\" onclick=\"convertToInteractive('df-29f295e8-845c-462b-9957-9b988e0383d2')\"\n",
              "            title=\"Convert this dataframe to an interactive table.\"\n",
              "            style=\"display:none;\">\n",
              "\n",
              "  <svg xmlns=\"http://www.w3.org/2000/svg\" height=\"24px\" viewBox=\"0 -960 960 960\">\n",
              "    <path d=\"M120-120v-720h720v720H120Zm60-500h600v-160H180v160Zm220 220h160v-160H400v160Zm0 220h160v-160H400v160ZM180-400h160v-160H180v160Zm440 0h160v-160H620v160ZM180-180h160v-160H180v160Zm440 0h160v-160H620v160Z\"/>\n",
              "  </svg>\n",
              "    </button>\n",
              "\n",
              "  <style>\n",
              "    .colab-df-container {\n",
              "      display:flex;\n",
              "      gap: 12px;\n",
              "    }\n",
              "\n",
              "    .colab-df-convert {\n",
              "      background-color: #E8F0FE;\n",
              "      border: none;\n",
              "      border-radius: 50%;\n",
              "      cursor: pointer;\n",
              "      display: none;\n",
              "      fill: #1967D2;\n",
              "      height: 32px;\n",
              "      padding: 0 0 0 0;\n",
              "      width: 32px;\n",
              "    }\n",
              "\n",
              "    .colab-df-convert:hover {\n",
              "      background-color: #E2EBFA;\n",
              "      box-shadow: 0px 1px 2px rgba(60, 64, 67, 0.3), 0px 1px 3px 1px rgba(60, 64, 67, 0.15);\n",
              "      fill: #174EA6;\n",
              "    }\n",
              "\n",
              "    .colab-df-buttons div {\n",
              "      margin-bottom: 4px;\n",
              "    }\n",
              "\n",
              "    [theme=dark] .colab-df-convert {\n",
              "      background-color: #3B4455;\n",
              "      fill: #D2E3FC;\n",
              "    }\n",
              "\n",
              "    [theme=dark] .colab-df-convert:hover {\n",
              "      background-color: #434B5C;\n",
              "      box-shadow: 0px 1px 3px 1px rgba(0, 0, 0, 0.15);\n",
              "      filter: drop-shadow(0px 1px 2px rgba(0, 0, 0, 0.3));\n",
              "      fill: #FFFFFF;\n",
              "    }\n",
              "  </style>\n",
              "\n",
              "    <script>\n",
              "      const buttonEl =\n",
              "        document.querySelector('#df-29f295e8-845c-462b-9957-9b988e0383d2 button.colab-df-convert');\n",
              "      buttonEl.style.display =\n",
              "        google.colab.kernel.accessAllowed ? 'block' : 'none';\n",
              "\n",
              "      async function convertToInteractive(key) {\n",
              "        const element = document.querySelector('#df-29f295e8-845c-462b-9957-9b988e0383d2');\n",
              "        const dataTable =\n",
              "          await google.colab.kernel.invokeFunction('convertToInteractive',\n",
              "                                                    [key], {});\n",
              "        if (!dataTable) return;\n",
              "\n",
              "        const docLinkHtml = 'Like what you see? Visit the ' +\n",
              "          '<a target=\"_blank\" href=https://colab.research.google.com/notebooks/data_table.ipynb>data table notebook</a>'\n",
              "          + ' to learn more about interactive tables.';\n",
              "        element.innerHTML = '';\n",
              "        dataTable['output_type'] = 'display_data';\n",
              "        await google.colab.output.renderOutput(dataTable, element);\n",
              "        const docLink = document.createElement('div');\n",
              "        docLink.innerHTML = docLinkHtml;\n",
              "        element.appendChild(docLink);\n",
              "      }\n",
              "    </script>\n",
              "  </div>\n",
              "\n",
              "\n",
              "<div id=\"df-d73db309-ffcb-400f-9ac0-cde524b89005\">\n",
              "  <button class=\"colab-df-quickchart\" onclick=\"quickchart('df-d73db309-ffcb-400f-9ac0-cde524b89005')\"\n",
              "            title=\"Suggest charts\"\n",
              "            style=\"display:none;\">\n",
              "\n",
              "<svg xmlns=\"http://www.w3.org/2000/svg\" height=\"24px\"viewBox=\"0 0 24 24\"\n",
              "     width=\"24px\">\n",
              "    <g>\n",
              "        <path d=\"M19 3H5c-1.1 0-2 .9-2 2v14c0 1.1.9 2 2 2h14c1.1 0 2-.9 2-2V5c0-1.1-.9-2-2-2zM9 17H7v-7h2v7zm4 0h-2V7h2v10zm4 0h-2v-4h2v4z\"/>\n",
              "    </g>\n",
              "</svg>\n",
              "  </button>\n",
              "\n",
              "<style>\n",
              "  .colab-df-quickchart {\n",
              "      --bg-color: #E8F0FE;\n",
              "      --fill-color: #1967D2;\n",
              "      --hover-bg-color: #E2EBFA;\n",
              "      --hover-fill-color: #174EA6;\n",
              "      --disabled-fill-color: #AAA;\n",
              "      --disabled-bg-color: #DDD;\n",
              "  }\n",
              "\n",
              "  [theme=dark] .colab-df-quickchart {\n",
              "      --bg-color: #3B4455;\n",
              "      --fill-color: #D2E3FC;\n",
              "      --hover-bg-color: #434B5C;\n",
              "      --hover-fill-color: #FFFFFF;\n",
              "      --disabled-bg-color: #3B4455;\n",
              "      --disabled-fill-color: #666;\n",
              "  }\n",
              "\n",
              "  .colab-df-quickchart {\n",
              "    background-color: var(--bg-color);\n",
              "    border: none;\n",
              "    border-radius: 50%;\n",
              "    cursor: pointer;\n",
              "    display: none;\n",
              "    fill: var(--fill-color);\n",
              "    height: 32px;\n",
              "    padding: 0;\n",
              "    width: 32px;\n",
              "  }\n",
              "\n",
              "  .colab-df-quickchart:hover {\n",
              "    background-color: var(--hover-bg-color);\n",
              "    box-shadow: 0 1px 2px rgba(60, 64, 67, 0.3), 0 1px 3px 1px rgba(60, 64, 67, 0.15);\n",
              "    fill: var(--button-hover-fill-color);\n",
              "  }\n",
              "\n",
              "  .colab-df-quickchart-complete:disabled,\n",
              "  .colab-df-quickchart-complete:disabled:hover {\n",
              "    background-color: var(--disabled-bg-color);\n",
              "    fill: var(--disabled-fill-color);\n",
              "    box-shadow: none;\n",
              "  }\n",
              "\n",
              "  .colab-df-spinner {\n",
              "    border: 2px solid var(--fill-color);\n",
              "    border-color: transparent;\n",
              "    border-bottom-color: var(--fill-color);\n",
              "    animation:\n",
              "      spin 1s steps(1) infinite;\n",
              "  }\n",
              "\n",
              "  @keyframes spin {\n",
              "    0% {\n",
              "      border-color: transparent;\n",
              "      border-bottom-color: var(--fill-color);\n",
              "      border-left-color: var(--fill-color);\n",
              "    }\n",
              "    20% {\n",
              "      border-color: transparent;\n",
              "      border-left-color: var(--fill-color);\n",
              "      border-top-color: var(--fill-color);\n",
              "    }\n",
              "    30% {\n",
              "      border-color: transparent;\n",
              "      border-left-color: var(--fill-color);\n",
              "      border-top-color: var(--fill-color);\n",
              "      border-right-color: var(--fill-color);\n",
              "    }\n",
              "    40% {\n",
              "      border-color: transparent;\n",
              "      border-right-color: var(--fill-color);\n",
              "      border-top-color: var(--fill-color);\n",
              "    }\n",
              "    60% {\n",
              "      border-color: transparent;\n",
              "      border-right-color: var(--fill-color);\n",
              "    }\n",
              "    80% {\n",
              "      border-color: transparent;\n",
              "      border-right-color: var(--fill-color);\n",
              "      border-bottom-color: var(--fill-color);\n",
              "    }\n",
              "    90% {\n",
              "      border-color: transparent;\n",
              "      border-bottom-color: var(--fill-color);\n",
              "    }\n",
              "  }\n",
              "</style>\n",
              "\n",
              "  <script>\n",
              "    async function quickchart(key) {\n",
              "      const quickchartButtonEl =\n",
              "        document.querySelector('#' + key + ' button');\n",
              "      quickchartButtonEl.disabled = true;  // To prevent multiple clicks.\n",
              "      quickchartButtonEl.classList.add('colab-df-spinner');\n",
              "      try {\n",
              "        const charts = await google.colab.kernel.invokeFunction(\n",
              "            'suggestCharts', [key], {});\n",
              "      } catch (error) {\n",
              "        console.error('Error during call to suggestCharts:', error);\n",
              "      }\n",
              "      quickchartButtonEl.classList.remove('colab-df-spinner');\n",
              "      quickchartButtonEl.classList.add('colab-df-quickchart-complete');\n",
              "    }\n",
              "    (() => {\n",
              "      let quickchartButtonEl =\n",
              "        document.querySelector('#df-d73db309-ffcb-400f-9ac0-cde524b89005 button');\n",
              "      quickchartButtonEl.style.display =\n",
              "        google.colab.kernel.accessAllowed ? 'block' : 'none';\n",
              "    })();\n",
              "  </script>\n",
              "</div>\n",
              "\n",
              "    </div>\n",
              "  </div>\n"
            ],
            "application/vnd.google.colaboratory.intrinsic+json": {
              "type": "dataframe",
              "variable_name": "df",
              "summary": "{\n  \"name\": \"df\",\n  \"rows\": 3650,\n  \"fields\": [\n    {\n      \"column\": \"Date of Sale\",\n      \"properties\": {\n        \"dtype\": \"category\",\n        \"num_unique_values\": 365,\n        \"samples\": [\n          \"13-07-2022\",\n          \"03-02-2022\",\n          \"16-01-2022\"\n        ],\n        \"semantic_type\": \"\",\n        \"description\": \"\"\n      }\n    },\n    {\n      \"column\": \"Region\",\n      \"properties\": {\n        \"dtype\": \"category\",\n        \"num_unique_values\": 5,\n        \"samples\": [\n          \"Australia\",\n          \"North America\",\n          \"Asia\"\n        ],\n        \"semantic_type\": \"\",\n        \"description\": \"\"\n      }\n    },\n    {\n      \"column\": \"Product Type\",\n      \"properties\": {\n        \"dtype\": \"category\",\n        \"num_unique_values\": 5,\n        \"samples\": [\n          \"DevTools\",\n          \"ERP\",\n          \"Database\"\n        ],\n        \"semantic_type\": \"\",\n        \"description\": \"\"\n      }\n    },\n    {\n      \"column\": \"Sales Channel\",\n      \"properties\": {\n        \"dtype\": \"category\",\n        \"num_unique_values\": 3,\n        \"samples\": [\n          \"Partner\",\n          \"Online\",\n          \"Direct Sales\"\n        ],\n        \"semantic_type\": \"\",\n        \"description\": \"\"\n      }\n    },\n    {\n      \"column\": \"Customer Type\",\n      \"properties\": {\n        \"dtype\": \"category\",\n        \"num_unique_values\": 2,\n        \"samples\": [\n          \"Consumer\",\n          \"Business\"\n        ],\n        \"semantic_type\": \"\",\n        \"description\": \"\"\n      }\n    },\n    {\n      \"column\": \"Sales Amount in US$\",\n      \"properties\": {\n        \"dtype\": \"number\",\n        \"std\": 2844.5049250623656,\n        \"min\": 101.0,\n        \"max\": 9998.0,\n        \"num_unique_values\": 3074,\n        \"samples\": [\n          5488.0,\n          2080.0\n        ],\n        \"semantic_type\": \"\",\n        \"description\": \"\"\n      }\n    },\n    {\n      \"column\": \"Units Sold\",\n      \"properties\": {\n        \"dtype\": \"number\",\n        \"std\": 5,\n        \"min\": 1,\n        \"max\": 19,\n        \"num_unique_values\": 19,\n        \"samples\": [\n          16,\n          14\n        ],\n        \"semantic_type\": \"\",\n        \"description\": \"\"\n      }\n    },\n    {\n      \"column\": \"Marketing Spend in US$\",\n      \"properties\": {\n        \"dtype\": \"number\",\n        \"std\": 433.0949134843463,\n        \"min\": 500.0,\n        \"max\": 2000.0,\n        \"num_unique_values\": 1360,\n        \"samples\": [\n          1812.0,\n          1750.0\n        ],\n        \"semantic_type\": \"\",\n        \"description\": \"\"\n      }\n    },\n    {\n      \"column\": \"Returning Customer\",\n      \"properties\": {\n        \"dtype\": \"category\",\n        \"num_unique_values\": 2,\n        \"samples\": [\n          \"No\",\n          \"Yes\"\n        ],\n        \"semantic_type\": \"\",\n        \"description\": \"\"\n      }\n    },\n    {\n      \"column\": \"Date\",\n      \"properties\": {\n        \"dtype\": \"date\",\n        \"min\": \"2022-01-01 00:00:00\",\n        \"max\": \"2022-12-31 00:00:00\",\n        \"num_unique_values\": 365,\n        \"samples\": [\n          \"2022-07-13 00:00:00\",\n          \"2022-02-03 00:00:00\"\n        ],\n        \"semantic_type\": \"\",\n        \"description\": \"\"\n      }\n    },\n    {\n      \"column\": \"Quater\",\n      \"properties\": {\n        \"dtype\": \"int32\",\n        \"num_unique_values\": 4,\n        \"samples\": [\n          2,\n          4\n        ],\n        \"semantic_type\": \"\",\n        \"description\": \"\"\n      }\n    },\n    {\n      \"column\": \"Month\",\n      \"properties\": {\n        \"dtype\": \"category\",\n        \"num_unique_values\": 12,\n        \"samples\": [\n          \"November\",\n          \"October\"\n        ],\n        \"semantic_type\": \"\",\n        \"description\": \"\"\n      }\n    }\n  ]\n}"
            }
          },
          "metadata": {},
          "execution_count": 27
        }
      ]
    },
    {
      "cell_type": "markdown",
      "source": [
        "# **Drop Blank/NA Data**"
      ],
      "metadata": {
        "id": "qdE6JRZWrc70"
      }
    },
    {
      "cell_type": "code",
      "source": [
        "df.dropna(inplace=True) #Droping NA values, with inplace arrgument set to True"
      ],
      "metadata": {
        "id": "CG1-RMRAbR7l"
      },
      "execution_count": null,
      "outputs": []
    },
    {
      "cell_type": "markdown",
      "source": [
        "***Done chekcing all columns for na or null values. all retured zero count. hence data is valid now.***"
      ],
      "metadata": {
        "id": "RzLeSJwJuJQL"
      }
    },
    {
      "cell_type": "markdown",
      "source": [
        "# **Standardize Data Stage**"
      ],
      "metadata": {
        "id": "mjeeRVszvsiZ"
      }
    },
    {
      "cell_type": "code",
      "source": [
        "df['Units Sold'] = df['Units Sold'].astype(int) #new column creationm and setting an data type for the same\n"
      ],
      "metadata": {
        "id": "0Q-3dgYKbR-N"
      },
      "execution_count": null,
      "outputs": []
    },
    {
      "cell_type": "code",
      "source": [
        "df['Date'] = pd.to_datetime(df['Date of Sale'], format='mixed', dayfirst=True, errors='coerce') #this will take care of date format. Give date is not in month date year format.\n"
      ],
      "metadata": {
        "id": "f_bC0K2TFrsl"
      },
      "execution_count": null,
      "outputs": []
    },
    {
      "cell_type": "markdown",
      "source": [
        "# **Lets Check for Outliners**"
      ],
      "metadata": {
        "id": "10VKw_0hEiNv"
      }
    },
    {
      "cell_type": "code",
      "source": [
        "sns.boxplot(x=df['Units Sold']) #drawing an box plot"
      ],
      "metadata": {
        "colab": {
          "base_uri": "https://localhost:8080/",
          "height": 466
        },
        "id": "veDrpVU1v1Uc",
        "outputId": "daa15621-c073-4f8b-c88e-a2cd68fa3eb2"
      },
      "execution_count": null,
      "outputs": [
        {
          "output_type": "execute_result",
          "data": {
            "text/plain": [
              "<Axes: xlabel='Units Sold'>"
            ]
          },
          "metadata": {},
          "execution_count": 14
        },
        {
          "output_type": "display_data",
          "data": {
            "text/plain": [
              "<Figure size 640x480 with 1 Axes>"
            ],
            "image/png": "[encoded data removed]"
          },
          "metadata": {}
        }
      ]
    },
    {
      "cell_type": "code",
      "source": [
        "sns.boxplot(x=df['Sales Amount in US$']) #drawing an box plot"
      ],
      "metadata": {
        "colab": {
          "base_uri": "https://localhost:8080/",
          "height": 466
        },
        "id": "a5HoV8Czv1Zn",
        "outputId": "499bacc9-66e7-4727-c9e7-f37047732298"
      },
      "execution_count": null,
      "outputs": [
        {
          "output_type": "execute_result",
          "data": {
            "text/plain": [
              "<Axes: xlabel='Sales Amount in US$'>"
            ]
          },
          "metadata": {},
          "execution_count": 15
        },
        {
          "output_type": "display_data",
          "data": {
            "text/plain": [
              "<Figure size 640x480 with 1 Axes>"
            ],
            "image/png": "[encoded data removed]"
          },
          "metadata": {}
        }
      ]
    },
    {
      "cell_type": "code",
      "source": [
        "sns.boxplot(x=df['Marketing Spend in US$']) #drawing an box plot"
      ],
      "metadata": {
        "colab": {
          "base_uri": "https://localhost:8080/",
          "height": 466
        },
        "id": "hQ6HknXWv1cN",
        "outputId": "8d1cf7f8-8464-4a0c-ef66-28b31473d2f6"
      },
      "execution_count": null,
      "outputs": [
        {
          "output_type": "execute_result",
          "data": {
            "text/plain": [
              "<Axes: xlabel='Marketing Spend in US$'>"
            ]
          },
          "metadata": {},
          "execution_count": 16
        },
        {
          "output_type": "display_data",
          "data": {
            "text/plain": [
              "<Figure size 640x480 with 1 Axes>"
            ],
            "image/png": "[encoded data removed]"
          },
          "metadata": {}
        }
      ]
    },
    {
      "cell_type": "markdown",
      "source": [
        "# **Lets Create New column which will be required for analysis.**"
      ],
      "metadata": {
        "id": "NIicp-HUE91p"
      }
    },
    {
      "cell_type": "markdown",
      "source": [
        "**Date to Quater:**"
      ],
      "metadata": {
        "id": "5pbvmqPZFEhA"
      }
    },
    {
      "cell_type": "code",
      "source": [
        "df['Quater'] = pd.to_datetime(df['Date']).dt.quarter #converting date to quater and making new to column"
      ],
      "metadata": {
        "id": "2d0g3sOFbSAS"
      },
      "execution_count": null,
      "outputs": []
    },
    {
      "cell_type": "code",
      "source": [
        "df['Date'] #understanding data"
      ],
      "metadata": {
        "colab": {
          "base_uri": "https://localhost:8080/"
        },
        "id": "Gr-iX3vMbSCp",
        "outputId": "906041cc-e28f-4acd-9450-7e041b1fc57d"
      },
      "execution_count": null,
      "outputs": [
        {
          "output_type": "execute_result",
          "data": {
            "text/plain": [
              "0      2022-01-01\n",
              "1      2022-01-02\n",
              "2      2022-01-03\n",
              "3      2022-01-04\n",
              "4      2022-01-05\n",
              "          ...    \n",
              "3645   2022-12-27\n",
              "3646   2022-12-28\n",
              "3647   2022-12-29\n",
              "3648   2022-12-30\n",
              "3649   2022-12-31\n",
              "Name: Date, Length: 3650, dtype: datetime64[ns]"
            ]
          },
          "metadata": {},
          "execution_count": 18
        }
      ]
    },
    {
      "cell_type": "code",
      "source": [
        "df['Month'] = pd.to_datetime(df['Date']).dt.month_name(locale = '') # extraction from data of month"
      ],
      "metadata": {
        "id": "ttJUsNCKbSFH"
      },
      "execution_count": null,
      "outputs": []
    },
    {
      "cell_type": "code",
      "source": [
        "df['Profit'] = (df['Sales Amount in US$']-df['Marketing Spend in US$']) # calculation for new column 'Profit'\n",
        "df['Profit'].astype(int) # setting data type"
      ],
      "metadata": {
        "colab": {
          "base_uri": "https://localhost:8080/"
        },
        "id": "lvTkMWNmbSHi",
        "outputId": "d0d77b58-d5bd-4883-e86b-00948fb80ee3"
      },
      "execution_count": null,
      "outputs": [
        {
          "output_type": "execute_result",
          "data": {
            "text/plain": [
              "0       6930\n",
              "1       7956\n",
              "2       4653\n",
              "3       8123\n",
              "4       -718\n",
              "        ... \n",
              "3645    4582\n",
              "3646    1209\n",
              "3647    1036\n",
              "3648    3239\n",
              "3649   -1480\n",
              "Name: Profit, Length: 3650, dtype: int64"
            ]
          },
          "metadata": {},
          "execution_count": 31
        }
      ]
    },
    {
      "cell_type": "code",
      "source": [
        "df.head(5) #understanding data"
      ],
      "metadata": {
        "colab": {
          "base_uri": "https://localhost:8080/",
          "height": 206
        },
        "id": "KNWjs3efbSJ4",
        "outputId": "afdf5e80-44f8-4c55-87b8-ffebd06126df"
      },
      "execution_count": null,
      "outputs": [
        {
          "output_type": "execute_result",
          "data": {
            "text/plain": [
              "  Date of Sale         Region Product Type Sales Channel Customer Type  \\\n",
              "0   01-01-2022  South America          CRM       Partner      Business   \n",
              "1   02-01-2022      Australia     DevTools       Partner      Consumer   \n",
              "2   03-01-2022           Asia     DevTools       Partner      Consumer   \n",
              "3   04-01-2022      Australia     Database       Partner      Business   \n",
              "4   05-01-2022      Australia          CRM        Online      Consumer   \n",
              "\n",
              "   Sales Amount in US$  Units Sold  Marketing Spend in US$ Returning Customer  \\\n",
              "0               7723.0          16                   793.0                Yes   \n",
              "1               8681.0          15                   725.0                Yes   \n",
              "2               5240.0           8                   587.0                 No   \n",
              "3               9933.0          15                  1810.0                Yes   \n",
              "4                215.0           1                   933.0                Yes   \n",
              "\n",
              "        Date  Quater    Month  Profit  \n",
              "0 2022-01-01       1  January  6930.0  \n",
              "1 2022-01-02       1  January  7956.0  \n",
              "2 2022-01-03       1  January  4653.0  \n",
              "3 2022-01-04       1  January  8123.0  \n",
              "4 2022-01-05       1  January  -718.0  "
            ],
            "text/html": [
              "\n",
              "  <div id=\"df-76038433-43ee-415b-b028-b08a8cd6857c\" class=\"colab-df-container\">\n",
              "    <div>\n",
              "<style scoped>\n",
              "    .dataframe tbody tr th:only-of-type {\n",
              "        vertical-align: middle;\n",
              "    }\n",
              "\n",
              "    .dataframe tbody tr th {\n",
              "        vertical-align: top;\n",
              "    }\n",
              "\n",
              "    .dataframe thead th {\n",
              "        text-align: right;\n",
              "    }\n",
              "</style>\n",
              "<table border=\"1\" class=\"dataframe\">\n",
              "  <thead>\n",
              "    <tr style=\"text-align: right;\">\n",
              "      <th></th>\n",
              "      <th>Date of Sale</th>\n",
              "      <th>Region</th>\n",
              "      <th>Product Type</th>\n",
              "      <th>Sales Channel</th>\n",
              "      <th>Customer Type</th>\n",
              "      <th>Sales Amount in US$</th>\n",
              "      <th>Units Sold</th>\n",
              "      <th>Marketing Spend in US$</th>\n",
              "      <th>Returning Customer</th>\n",
              "      <th>Date</th>\n",
              "      <th>Quater</th>\n",
              "      <th>Month</th>\n",
              "      <th>Profit</th>\n",
              "    </tr>\n",
              "  </thead>\n",
              "  <tbody>\n",
              "    <tr>\n",
              "      <th>0</th>\n",
              "      <td>01-01-2022</td>\n",
              "      <td>South America</td>\n",
              "      <td>CRM</td>\n",
              "      <td>Partner</td>\n",
              "      <td>Business</td>\n",
              "      <td>7723.0</td>\n",
              "      <td>16</td>\n",
              "      <td>793.0</td>\n",
              "      <td>Yes</td>\n",
              "      <td>2022-01-01</td>\n",
              "      <td>1</td>\n",
              "      <td>January</td>\n",
              "      <td>6930.0</td>\n",
              "    </tr>\n",
              "    <tr>\n",
              "      <th>1</th>\n",
              "      <td>02-01-2022</td>\n",
              "      <td>Australia</td>\n",
              "      <td>DevTools</td>\n",
              "      <td>Partner</td>\n",
              "      <td>Consumer</td>\n",
              "      <td>8681.0</td>\n",
              "      <td>15</td>\n",
              "      <td>725.0</td>\n",
              "      <td>Yes</td>\n",
              "      <td>2022-01-02</td>\n",
              "      <td>1</td>\n",
              "      <td>January</td>\n",
              "      <td>7956.0</td>\n",
              "    </tr>\n",
              "    <tr>\n",
              "      <th>2</th>\n",
              "      <td>03-01-2022</td>\n",
              "      <td>Asia</td>\n",
              "      <td>DevTools</td>\n",
              "      <td>Partner</td>\n",
              "      <td>Consumer</td>\n",
              "      <td>5240.0</td>\n",
              "      <td>8</td>\n",
              "      <td>587.0</td>\n",
              "      <td>No</td>\n",
              "      <td>2022-01-03</td>\n",
              "      <td>1</td>\n",
              "      <td>January</td>\n",
              "      <td>4653.0</td>\n",
              "    </tr>\n",
              "    <tr>\n",
              "      <th>3</th>\n",
              "      <td>04-01-2022</td>\n",
              "      <td>Australia</td>\n",
              "      <td>Database</td>\n",
              "      <td>Partner</td>\n",
              "      <td>Business</td>\n",
              "      <td>9933.0</td>\n",
              "      <td>15</td>\n",
              "      <td>1810.0</td>\n",
              "      <td>Yes</td>\n",
              "      <td>2022-01-04</td>\n",
              "      <td>1</td>\n",
              "      <td>January</td>\n",
              "      <td>8123.0</td>\n",
              "    </tr>\n",
              "    <tr>\n",
              "      <th>4</th>\n",
              "      <td>05-01-2022</td>\n",
              "      <td>Australia</td>\n",
              "      <td>CRM</td>\n",
              "      <td>Online</td>\n",
              "      <td>Consumer</td>\n",
              "      <td>215.0</td>\n",
              "      <td>1</td>\n",
              "      <td>933.0</td>\n",
              "      <td>Yes</td>\n",
              "      <td>2022-01-05</td>\n",
              "      <td>1</td>\n",
              "      <td>January</td>\n",
              "      <td>-718.0</td>\n",
              "    </tr>\n",
              "  </tbody>\n",
              "</table>\n",
              "</div>\n",
              "    <div class=\"colab-df-buttons\">\n",
              "\n",
              "  <div class=\"colab-df-container\">\n",
              "    <button class=\"colab-df-convert\" onclick=\"convertToInteractive('df-76038433-43ee-415b-b028-b08a8cd6857c')\"\n",
              "            title=\"Convert this dataframe to an interactive table.\"\n",
              "            style=\"display:none;\">\n",
              "\n",
              "  <svg xmlns=\"http://www.w3.org/2000/svg\" height=\"24px\" viewBox=\"0 -960 960 960\">\n",
              "    <path d=\"M120-120v-720h720v720H120Zm60-500h600v-160H180v160Zm220 220h160v-160H400v160Zm0 220h160v-160H400v160ZM180-400h160v-160H180v160Zm440 0h160v-160H620v160ZM180-180h160v-160H180v160Zm440 0h160v-160H620v160Z\"/>\n",
              "  </svg>\n",
              "    </button>\n",
              "\n",
              "  <style>\n",
              "    .colab-df-container {\n",
              "      display:flex;\n",
              "      gap: 12px;\n",
              "    }\n",
              "\n",
              "    .colab-df-convert {\n",
              "      background-color: #E8F0FE;\n",
              "      border: none;\n",
              "      border-radius: 50%;\n",
              "      cursor: pointer;\n",
              "      display: none;\n",
              "      fill: #1967D2;\n",
              "      height: 32px;\n",
              "      padding: 0 0 0 0;\n",
              "      width: 32px;\n",
              "    }\n",
              "\n",
              "    .colab-df-convert:hover {\n",
              "      background-color: #E2EBFA;\n",
              "      box-shadow: 0px 1px 2px rgba(60, 64, 67, 0.3), 0px 1px 3px 1px rgba(60, 64, 67, 0.15);\n",
              "      fill: #174EA6;\n",
              "    }\n",
              "\n",
              "    .colab-df-buttons div {\n",
              "      margin-bottom: 4px;\n",
              "    }\n",
              "\n",
              "    [theme=dark] .colab-df-convert {\n",
              "      background-color: #3B4455;\n",
              "      fill: #D2E3FC;\n",
              "    }\n",
              "\n",
              "    [theme=dark] .colab-df-convert:hover {\n",
              "      background-color: #434B5C;\n",
              "      box-shadow: 0px 1px 3px 1px rgba(0, 0, 0, 0.15);\n",
              "      filter: drop-shadow(0px 1px 2px rgba(0, 0, 0, 0.3));\n",
              "      fill: #FFFFFF;\n",
              "    }\n",
              "  </style>\n",
              "\n",
              "    <script>\n",
              "      const buttonEl =\n",
              "        document.querySelector('#df-76038433-43ee-415b-b028-b08a8cd6857c button.colab-df-convert');\n",
              "      buttonEl.style.display =\n",
              "        google.colab.kernel.accessAllowed ? 'block' : 'none';\n",
              "\n",
              "      async function convertToInteractive(key) {\n",
              "        const element = document.querySelector('#df-76038433-43ee-415b-b028-b08a8cd6857c');\n",
              "        const dataTable =\n",
              "          await google.colab.kernel.invokeFunction('convertToInteractive',\n",
              "                                                    [key], {});\n",
              "        if (!dataTable) return;\n",
              "\n",
              "        const docLinkHtml = 'Like what you see? Visit the ' +\n",
              "          '<a target=\"_blank\" href=https://colab.research.google.com/notebooks/data_table.ipynb>data table notebook</a>'\n",
              "          + ' to learn more about interactive tables.';\n",
              "        element.innerHTML = '';\n",
              "        dataTable['output_type'] = 'display_data';\n",
              "        await google.colab.output.renderOutput(dataTable, element);\n",
              "        const docLink = document.createElement('div');\n",
              "        docLink.innerHTML = docLinkHtml;\n",
              "        element.appendChild(docLink);\n",
              "      }\n",
              "    </script>\n",
              "  </div>\n",
              "\n",
              "\n",
              "<div id=\"df-dcfc181e-f120-4164-8996-51efafdc4aeb\">\n",
              "  <button class=\"colab-df-quickchart\" onclick=\"quickchart('df-dcfc181e-f120-4164-8996-51efafdc4aeb')\"\n",
              "            title=\"Suggest charts\"\n",
              "            style=\"display:none;\">\n",
              "\n",
              "<svg xmlns=\"http://www.w3.org/2000/svg\" height=\"24px\"viewBox=\"0 0 24 24\"\n",
              "     width=\"24px\">\n",
              "    <g>\n",
              "        <path d=\"M19 3H5c-1.1 0-2 .9-2 2v14c0 1.1.9 2 2 2h14c1.1 0 2-.9 2-2V5c0-1.1-.9-2-2-2zM9 17H7v-7h2v7zm4 0h-2V7h2v10zm4 0h-2v-4h2v4z\"/>\n",
              "    </g>\n",
              "</svg>\n",
              "  </button>\n",
              "\n",
              "<style>\n",
              "  .colab-df-quickchart {\n",
              "      --bg-color: #E8F0FE;\n",
              "      --fill-color: #1967D2;\n",
              "      --hover-bg-color: #E2EBFA;\n",
              "      --hover-fill-color: #174EA6;\n",
              "      --disabled-fill-color: #AAA;\n",
              "      --disabled-bg-color: #DDD;\n",
              "  }\n",
              "\n",
              "  [theme=dark] .colab-df-quickchart {\n",
              "      --bg-color: #3B4455;\n",
              "      --fill-color: #D2E3FC;\n",
              "      --hover-bg-color: #434B5C;\n",
              "      --hover-fill-color: #FFFFFF;\n",
              "      --disabled-bg-color: #3B4455;\n",
              "      --disabled-fill-color: #666;\n",
              "  }\n",
              "\n",
              "  .colab-df-quickchart {\n",
              "    background-color: var(--bg-color);\n",
              "    border: none;\n",
              "    border-radius: 50%;\n",
              "    cursor: pointer;\n",
              "    display: none;\n",
              "    fill: var(--fill-color);\n",
              "    height: 32px;\n",
              "    padding: 0;\n",
              "    width: 32px;\n",
              "  }\n",
              "\n",
              "  .colab-df-quickchart:hover {\n",
              "    background-color: var(--hover-bg-color);\n",
              "    box-shadow: 0 1px 2px rgba(60, 64, 67, 0.3), 0 1px 3px 1px rgba(60, 64, 67, 0.15);\n",
              "    fill: var(--button-hover-fill-color);\n",
              "  }\n",
              "\n",
              "  .colab-df-quickchart-complete:disabled,\n",
              "  .colab-df-quickchart-complete:disabled:hover {\n",
              "    background-color: var(--disabled-bg-color);\n",
              "    fill: var(--disabled-fill-color);\n",
              "    box-shadow: none;\n",
              "  }\n",
              "\n",
              "  .colab-df-spinner {\n",
              "    border: 2px solid var(--fill-color);\n",
              "    border-color: transparent;\n",
              "    border-bottom-color: var(--fill-color);\n",
              "    animation:\n",
              "      spin 1s steps(1) infinite;\n",
              "  }\n",
              "\n",
              "  @keyframes spin {\n",
              "    0% {\n",
              "      border-color: transparent;\n",
              "      border-bottom-color: var(--fill-color);\n",
              "      border-left-color: var(--fill-color);\n",
              "    }\n",
              "    20% {\n",
              "      border-color: transparent;\n",
              "      border-left-color: var(--fill-color);\n",
              "      border-top-color: var(--fill-color);\n",
              "    }\n",
              "    30% {\n",
              "      border-color: transparent;\n",
              "      border-left-color: var(--fill-color);\n",
              "      border-top-color: var(--fill-color);\n",
              "      border-right-color: var(--fill-color);\n",
              "    }\n",
              "    40% {\n",
              "      border-color: transparent;\n",
              "      border-right-color: var(--fill-color);\n",
              "      border-top-color: var(--fill-color);\n",
              "    }\n",
              "    60% {\n",
              "      border-color: transparent;\n",
              "      border-right-color: var(--fill-color);\n",
              "    }\n",
              "    80% {\n",
              "      border-color: transparent;\n",
              "      border-right-color: var(--fill-color);\n",
              "      border-bottom-color: var(--fill-color);\n",
              "    }\n",
              "    90% {\n",
              "      border-color: transparent;\n",
              "      border-bottom-color: var(--fill-color);\n",
              "    }\n",
              "  }\n",
              "</style>\n",
              "\n",
              "  <script>\n",
              "    async function quickchart(key) {\n",
              "      const quickchartButtonEl =\n",
              "        document.querySelector('#' + key + ' button');\n",
              "      quickchartButtonEl.disabled = true;  // To prevent multiple clicks.\n",
              "      quickchartButtonEl.classList.add('colab-df-spinner');\n",
              "      try {\n",
              "        const charts = await google.colab.kernel.invokeFunction(\n",
              "            'suggestCharts', [key], {});\n",
              "      } catch (error) {\n",
              "        console.error('Error during call to suggestCharts:', error);\n",
              "      }\n",
              "      quickchartButtonEl.classList.remove('colab-df-spinner');\n",
              "      quickchartButtonEl.classList.add('colab-df-quickchart-complete');\n",
              "    }\n",
              "    (() => {\n",
              "      let quickchartButtonEl =\n",
              "        document.querySelector('#df-dcfc181e-f120-4164-8996-51efafdc4aeb button');\n",
              "      quickchartButtonEl.style.display =\n",
              "        google.colab.kernel.accessAllowed ? 'block' : 'none';\n",
              "    })();\n",
              "  </script>\n",
              "</div>\n",
              "\n",
              "    </div>\n",
              "  </div>\n"
            ],
            "application/vnd.google.colaboratory.intrinsic+json": {
              "type": "dataframe",
              "variable_name": "df",
              "summary": "{\n  \"name\": \"df\",\n  \"rows\": 3650,\n  \"fields\": [\n    {\n      \"column\": \"Date of Sale\",\n      \"properties\": {\n        \"dtype\": \"category\",\n        \"num_unique_values\": 365,\n        \"samples\": [\n          \"13-07-2022\",\n          \"03-02-2022\",\n          \"16-01-2022\"\n        ],\n        \"semantic_type\": \"\",\n        \"description\": \"\"\n      }\n    },\n    {\n      \"column\": \"Region\",\n      \"properties\": {\n        \"dtype\": \"category\",\n        \"num_unique_values\": 5,\n        \"samples\": [\n          \"Australia\",\n          \"North America\",\n          \"Asia\"\n        ],\n        \"semantic_type\": \"\",\n        \"description\": \"\"\n      }\n    },\n    {\n      \"column\": \"Product Type\",\n      \"properties\": {\n        \"dtype\": \"category\",\n        \"num_unique_values\": 5,\n        \"samples\": [\n          \"DevTools\",\n          \"ERP\",\n          \"Database\"\n        ],\n        \"semantic_type\": \"\",\n        \"description\": \"\"\n      }\n    },\n    {\n      \"column\": \"Sales Channel\",\n      \"properties\": {\n        \"dtype\": \"category\",\n        \"num_unique_values\": 3,\n        \"samples\": [\n          \"Partner\",\n          \"Online\",\n          \"Direct Sales\"\n        ],\n        \"semantic_type\": \"\",\n        \"description\": \"\"\n      }\n    },\n    {\n      \"column\": \"Customer Type\",\n      \"properties\": {\n        \"dtype\": \"category\",\n        \"num_unique_values\": 2,\n        \"samples\": [\n          \"Consumer\",\n          \"Business\"\n        ],\n        \"semantic_type\": \"\",\n        \"description\": \"\"\n      }\n    },\n    {\n      \"column\": \"Sales Amount in US$\",\n      \"properties\": {\n        \"dtype\": \"number\",\n        \"std\": 2844.5049250623656,\n        \"min\": 101.0,\n        \"max\": 9998.0,\n        \"num_unique_values\": 3074,\n        \"samples\": [\n          5488.0,\n          2080.0\n        ],\n        \"semantic_type\": \"\",\n        \"description\": \"\"\n      }\n    },\n    {\n      \"column\": \"Units Sold\",\n      \"properties\": {\n        \"dtype\": \"number\",\n        \"std\": 5,\n        \"min\": 1,\n        \"max\": 19,\n        \"num_unique_values\": 19,\n        \"samples\": [\n          16,\n          14\n        ],\n        \"semantic_type\": \"\",\n        \"description\": \"\"\n      }\n    },\n    {\n      \"column\": \"Marketing Spend in US$\",\n      \"properties\": {\n        \"dtype\": \"number\",\n        \"std\": 433.0949134843463,\n        \"min\": 500.0,\n        \"max\": 2000.0,\n        \"num_unique_values\": 1360,\n        \"samples\": [\n          1812.0,\n          1750.0\n        ],\n        \"semantic_type\": \"\",\n        \"description\": \"\"\n      }\n    },\n    {\n      \"column\": \"Returning Customer\",\n      \"properties\": {\n        \"dtype\": \"category\",\n        \"num_unique_values\": 2,\n        \"samples\": [\n          \"No\",\n          \"Yes\"\n        ],\n        \"semantic_type\": \"\",\n        \"description\": \"\"\n      }\n    },\n    {\n      \"column\": \"Date\",\n      \"properties\": {\n        \"dtype\": \"date\",\n        \"min\": \"2022-01-01 00:00:00\",\n        \"max\": \"2022-12-31 00:00:00\",\n        \"num_unique_values\": 365,\n        \"samples\": [\n          \"2022-07-13 00:00:00\",\n          \"2022-02-03 00:00:00\"\n        ],\n        \"semantic_type\": \"\",\n        \"description\": \"\"\n      }\n    },\n    {\n      \"column\": \"Quater\",\n      \"properties\": {\n        \"dtype\": \"int32\",\n        \"num_unique_values\": 4,\n        \"samples\": [\n          2,\n          4\n        ],\n        \"semantic_type\": \"\",\n        \"description\": \"\"\n      }\n    },\n    {\n      \"column\": \"Month\",\n      \"properties\": {\n        \"dtype\": \"category\",\n        \"num_unique_values\": 12,\n        \"samples\": [\n          \"November\",\n          \"October\"\n        ],\n        \"semantic_type\": \"\",\n        \"description\": \"\"\n      }\n    },\n    {\n      \"column\": \"Profit\",\n      \"properties\": {\n        \"dtype\": \"number\",\n        \"std\": 2863.217945480689,\n        \"min\": -1791.0,\n        \"max\": 9350.0,\n        \"num_unique_values\": 3085,\n        \"samples\": [\n          2975.0,\n          4970.0\n        ],\n        \"semantic_type\": \"\",\n        \"description\": \"\"\n      }\n    }\n  ]\n}"
            }
          },
          "metadata": {},
          "execution_count": 32
        }
      ]
    },
    {
      "cell_type": "code",
      "source": [
        "df.to_csv('df_sales_synthetic_data - 20-07-2024.csv') #writing cleaned data to csv"
      ],
      "metadata": {
        "id": "HBZ3hzLIbSMb"
      },
      "execution_count": null,
      "outputs": []
    },
    {
      "cell_type": "code",
      "source": [],
      "metadata": {
        "id": "ZjY8PaAJbSOw"
      },
      "execution_count": null,
      "outputs": []
    },
    {
      "cell_type": "code",
      "source": [],
      "metadata": {
        "id": "r-j_UUOlbSQ3"
      },
      "execution_count": null,
      "outputs": []
    },
    {
      "cell_type": "code",
      "source": [],
      "metadata": {
        "id": "B85EIVEcbSTl"
      },
      "execution_count": null,
      "outputs": []
    },
    {
      "cell_type": "code",
      "source": [],
      "metadata": {
        "id": "kuMOqj9cbSWC"
      },
      "execution_count": null,
      "outputs": []
    },
    {
      "cell_type": "code",
      "source": [],
      "metadata": {
        "id": "2tSO0Yk_bSYc"
      },
      "execution_count": null,
      "outputs": []
    },
    {
      "cell_type": "code",
      "source": [],
      "metadata": {
        "id": "ramnPsaEbSbN"
      },
      "execution_count": null,
      "outputs": []
    }
  ]
}